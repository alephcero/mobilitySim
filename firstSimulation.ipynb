{
 "cells": [
  {
   "cell_type": "code",
   "execution_count": 11,
   "metadata": {
    "collapsed": true
   },
   "outputs": [],
   "source": [
    "import simpy"
   ]
  },
  {
   "cell_type": "code",
   "execution_count": 43,
   "metadata": {
    "collapsed": true
   },
   "outputs": [],
   "source": [
    "#creating an Arrival class\n",
    "class Arrival(object):\n",
    "    def __init__(self, env):\n",
    "        self.env = env\n",
    "        # Start the run process everytime an instance is created.\n",
    "        self.action = env.process(self.run())\n",
    "        \n",
    "    \n",
    "        #the moment the user enters the queue\n",
    "        #enterQueue = env.now\n",
    "        #arrivalRate = 15\n",
    "        #user = User(env = env, ID = userID)\n",
    "        #print 'User ' + str(user.ID) + ' generated'\n",
    "            \n",
    "    #create a method run that perfomrs the actions when is the enviroment starts running\n",
    "    def run(self):\n",
    "        #generate an id for each user\n",
    "        userID = 0\n",
    "        while True:\n",
    "            arrivalRate = 15\n",
    "            yield self.env.timeout(arrivalRate)\n",
    "            user = User(env = env, ID = userID)\n",
    "            print 'User ' + str(user.ID) + ' generated'\n",
    "            userID +=1\n",
    "        \n",
    "class User(object):\n",
    "    def __init__(self, env,ID):\n",
    "        self.env = env\n",
    "        #set a name by default\n",
    "        self.ID = ID\n",
    "        # Start the run process everytime an instance is created.\n",
    "        #self.action = env.process(self.run())\n"
   ]
  },
  {
   "cell_type": "code",
   "execution_count": 44,
   "metadata": {
    "collapsed": false
   },
   "outputs": [
    {
     "name": "stdout",
     "output_type": "stream",
     "text": [
      "User 0 generated\n",
      "User 1 generated\n"
     ]
    }
   ],
   "source": [
    "env = simpy.Environment()\n",
    "arrival = Arrival(env)\n",
    "env.run(until=31)"
   ]
  },
  {
   "cell_type": "code",
   "execution_count": null,
   "metadata": {
    "collapsed": true
   },
   "outputs": [],
   "source": []
  },
  {
   "cell_type": "code",
   "execution_count": null,
   "metadata": {
    "collapsed": true
   },
   "outputs": [],
   "source": []
  },
  {
   "cell_type": "code",
   "execution_count": null,
   "metadata": {
    "collapsed": true
   },
   "outputs": [],
   "source": []
  },
  {
   "cell_type": "code",
   "execution_count": null,
   "metadata": {
    "collapsed": true
   },
   "outputs": [],
   "source": []
  },
  {
   "cell_type": "code",
   "execution_count": null,
   "metadata": {
    "collapsed": true
   },
   "outputs": [],
   "source": []
  },
  {
   "cell_type": "code",
   "execution_count": null,
   "metadata": {
    "collapsed": true
   },
   "outputs": [],
   "source": []
  }
 ],
 "metadata": {
  "kernelspec": {
   "display_name": "Python 2",
   "language": "python",
   "name": "python2"
  },
  "language_info": {
   "codemirror_mode": {
    "name": "ipython",
    "version": 2
   },
   "file_extension": ".py",
   "mimetype": "text/x-python",
   "name": "python",
   "nbconvert_exporter": "python",
   "pygments_lexer": "ipython2",
   "version": "2.7.13"
  }
 },
 "nbformat": 4,
 "nbformat_minor": 2
}
