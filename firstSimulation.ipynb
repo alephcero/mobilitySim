{
 "cells": [
  {
   "cell_type": "code",
   "execution_count": 2,
   "metadata": {
    "collapsed": true
   },
   "outputs": [],
   "source": [
    "import simpy"
   ]
  },
  {
   "cell_type": "code",
   "execution_count": 36,
   "metadata": {
    "collapsed": false
   },
   "outputs": [],
   "source": [
    "#creating an Arrival class\n",
    "class Arrival(object):\n",
    "    def __init__(self, env):\n",
    "        self.env = env\n",
    "        # Start the run process everytime an instance is created.\n",
    "        self.action = env.process(self.run())\n",
    "        \n",
    "    \n",
    "        #the moment the user enters the queue\n",
    "        #enterQueue = env.now\n",
    "        #arrivalRate = 15\n",
    "        #user = User(env = env, ID = userID)\n",
    "        #print 'User ' + str(user.ID) + ' generated'\n",
    "            \n",
    "    #create a method run that perfomrs the actions when is the enviroment starts running\n",
    "    def run(self):\n",
    "        #generate an id for each user\n",
    "        userID = 0\n",
    "        while True:\n",
    "            #user arrival rate parameter\n",
    "            arrivalRate = 2\n",
    "            \n",
    "            #when 2 minutes pass, yield\n",
    "            yield self.env.timeout(arrivalRate)\n",
    "            #instanciate a user\n",
    "            user = User(env = env, ID = userID)\n",
    "            \n",
    "            print 'User ' + str(user.ID) + ' generated at ' + str(env.now) \n",
    "            #increment the user id\n",
    "            userID +=1\n",
    "        \n",
    "class User(object):\n",
    "    def __init__(self, env,ID):\n",
    "        self.env = env\n",
    "        #set a name by default\n",
    "        self.ID = ID\n",
    "        # Start the run process everytime an instance is created.\n",
    "        #self.action = env.process(self.run())\n",
    "        \n",
    "class Circuit(object):\n",
    "    def __init__(self,env):\n",
    "        self.env = env\n",
    "        # Start the run process everytime an instance is created.\n",
    "        self.action = env.process(self.run())\n",
    "\n",
    "        \n",
    "    def run(self):\n",
    "        tripTime=15\n",
    "        arrival = Arrival(env)\n",
    "        #Begins circuit at time 0\n",
    "        while True:\n",
    "            print 'Bus arrives at A at', env.now\n",
    "            print 'Bus leaves A at', env.now\n",
    "            yield self.env.process(self.going(tripTime))\n",
    "\n",
    "            print 'Bus arrives at B at', env.now\n",
    "            print 'Bus leaves B at', env.now\n",
    "            yield self.env.process(self.returning(tripTime))\n",
    "\n",
    "            \n",
    "            \n",
    "            \n",
    "    #set the events for going and returning\n",
    "    def going(self, tripTime):\n",
    "        yield self.env.timeout(tripTime)\n",
    "    \n",
    "    def returning(self, tripTime):\n",
    "        yield self.env.timeout(tripTime)\n",
    "\n"
   ]
  },
  {
   "cell_type": "code",
   "execution_count": 37,
   "metadata": {
    "collapsed": false
   },
   "outputs": [
    {
     "name": "stdout",
     "output_type": "stream",
     "text": [
      "Bus arrives at A at 0\n",
      "Bus leaves A at 0\n",
      "User 0 generated at 2\n",
      "User 1 generated at 4\n",
      "User 2 generated at 6\n",
      "User 3 generated at 8\n",
      "User 4 generated at 10\n",
      "User 5 generated at 12\n",
      "User 6 generated at 14\n",
      "Bus arrives at B at 15\n",
      "Bus leaves B at 15\n",
      "User 7 generated at 16\n",
      "User 8 generated at 18\n",
      "User 9 generated at 20\n",
      "User 10 generated at 22\n",
      "User 11 generated at 24\n",
      "User 12 generated at 26\n",
      "User 13 generated at 28\n",
      "User 14 generated at 30\n",
      "Bus arrives at A at 30\n",
      "Bus leaves A at 30\n"
     ]
    }
   ],
   "source": [
    "#Start the environment\n",
    "env = simpy.Environment()\n",
    "circuito = Circuit(env)\n",
    "env.run(until=31)"
   ]
  },
  {
   "cell_type": "code",
   "execution_count": null,
   "metadata": {
    "collapsed": true
   },
   "outputs": [],
   "source": []
  },
  {
   "cell_type": "markdown",
   "metadata": {
    "collapsed": true
   },
   "source": [
    "# BACUP"
   ]
  },
  {
   "cell_type": "code",
   "execution_count": 35,
   "metadata": {
    "collapsed": false
   },
   "outputs": [
    {
     "name": "stdout",
     "output_type": "stream",
     "text": [
      "Bus arrives at A at 0\n",
      "Bus leaves A at 0\n",
      "User 0 generated at 2\n",
      "User 1 generated at 4\n",
      "User 2 generated at 6\n",
      "User 3 generated at 8\n",
      "User 4 generated at 10\n",
      "User 5 generated at 12\n",
      "User 6 generated at 14\n",
      "Bus arrives at B at 15\n",
      "Bus leaves B at 15\n",
      "User 7 generated at 16\n",
      "User 8 generated at 18\n",
      "User 9 generated at 20\n",
      "User 10 generated at 22\n",
      "User 11 generated at 24\n",
      "User 12 generated at 26\n",
      "User 13 generated at 28\n",
      "User 14 generated at 30\n",
      "Bus arrives at A at 30\n",
      "Bus leaves A at 30\n"
     ]
    }
   ],
   "source": [
    "#creating an Arrival class\n",
    "class Arrival(object):\n",
    "    def __init__(self, env):\n",
    "        self.env = env\n",
    "        # Start the run process everytime an instance is created.\n",
    "        self.action = env.process(self.run())\n",
    "        \n",
    "    \n",
    "        #the moment the user enters the queue\n",
    "        #enterQueue = env.now\n",
    "        #arrivalRate = 15\n",
    "        #user = User(env = env, ID = userID)\n",
    "        #print 'User ' + str(user.ID) + ' generated'\n",
    "            \n",
    "    #create a method run that perfomrs the actions when is the enviroment starts running\n",
    "    def run(self):\n",
    "        #generate an id for each user\n",
    "        userID = 0\n",
    "        while True:\n",
    "            #user arrival rate parameter\n",
    "            arrivalRate = 2\n",
    "            \n",
    "            #when 2 minutes pass, yield\n",
    "            yield self.env.timeout(arrivalRate)\n",
    "            #instanciate a user\n",
    "            user = User(env = env, ID = userID)\n",
    "            \n",
    "            print 'User ' + str(user.ID) + ' generated at ' + str(env.now) \n",
    "            #increment the user id\n",
    "            userID +=1\n",
    "        \n",
    "class User(object):\n",
    "    def __init__(self, env,ID):\n",
    "        self.env = env\n",
    "        #set a name by default\n",
    "        self.ID = ID\n",
    "        # Start the run process everytime an instance is created.\n",
    "        #self.action = env.process(self.run())\n",
    "        \n",
    "class Circuit(object):\n",
    "    def __init__(self,env):\n",
    "        self.env = env\n",
    "        # Start the run process everytime an instance is created.\n",
    "        self.action = env.process(self.run())\n",
    "\n",
    "        \n",
    "    def run(self):\n",
    "        tripTime=15\n",
    "        arrival = Arrival(env)\n",
    "        #Begins circuit at time 0\n",
    "        while True:\n",
    "            print 'Bus arrives at A at', env.now\n",
    "            print 'Bus leaves A at', env.now\n",
    "            yield self.env.process(self.going(tripTime))\n",
    "\n",
    "            print 'Bus arrives at B at', env.now\n",
    "            print 'Bus leaves B at', env.now\n",
    "            yield self.env.process(self.returning(tripTime))\n",
    "\n",
    "            \n",
    "            \n",
    "            \n",
    "    #set the events for going and returning\n",
    "    def going(self, tripTime):\n",
    "        yield self.env.timeout(tripTime)\n",
    "    \n",
    "    def returning(self, tripTime):\n",
    "        yield self.env.timeout(tripTime)\n",
    "\n",
    "#Start the environment\n",
    "env = simpy.Environment()\n",
    "circuito = Circuit(env)\n",
    "env.run(until=31)"
   ]
  },
  {
   "cell_type": "code",
   "execution_count": null,
   "metadata": {
    "collapsed": true
   },
   "outputs": [],
   "source": []
  }
 ],
 "metadata": {
  "kernelspec": {
   "display_name": "Python 2",
   "language": "python",
   "name": "python2"
  },
  "language_info": {
   "codemirror_mode": {
    "name": "ipython",
    "version": 2
   },
   "file_extension": ".py",
   "mimetype": "text/x-python",
   "name": "python",
   "nbconvert_exporter": "python",
   "pygments_lexer": "ipython2",
   "version": "2.7.13"
  }
 },
 "nbformat": 4,
 "nbformat_minor": 2
}
