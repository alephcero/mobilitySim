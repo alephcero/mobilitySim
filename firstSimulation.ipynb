{
 "cells": [
  {
   "cell_type": "code",
   "execution_count": 2,
   "metadata": {
    "collapsed": true
   },
   "outputs": [],
   "source": [
    "import simpy"
   ]
  },
  {
   "cell_type": "code",
   "execution_count": 132,
   "metadata": {
    "collapsed": false
   },
   "outputs": [
    {
     "data": {
      "text/plain": [
       "0"
      ]
     },
     "execution_count": 132,
     "metadata": {},
     "output_type": "execute_result"
    }
   ],
   "source": [
    "3/15"
   ]
  },
  {
   "cell_type": "code",
   "execution_count": 143,
   "metadata": {
    "collapsed": false
   },
   "outputs": [],
   "source": [
    "#creating an Arrival class\n",
    "class Arrival(object):\n",
    "    def __init__(self, env):\n",
    "        self.env = env\n",
    "        # Start the run process everytime an instance is created.\n",
    "        self.action = env.process(self.run())\n",
    "        \n",
    "    #create a method run that perfomrs the actions when is the enviroment starts running\n",
    "    def run(self):\n",
    "        #generate an id for each user\n",
    "        userID = 0\n",
    "        while True:\n",
    "            #user arrival rate parameter\n",
    "            arrivalRate = 2\n",
    "            \n",
    "            #when 2 minutes pass, yield\n",
    "            yield self.env.timeout(arrivalRate)\n",
    "            #instanciate a user\n",
    "            user = User(env = env, ID = userID)\n",
    "            \n",
    "            print 'User ' + str(user.ID) + ' generated at ' + str(env.now) \n",
    "            #increment the user id\n",
    "            userID +=1\n",
    "\n",
    "            \n",
    "class User(object):\n",
    "    def __init__(self, env,ID):\n",
    "        self.env = env\n",
    "        #set a name by default\n",
    "        self.ID = ID\n",
    "        # Start the run process everytime an instance is created.\n",
    "        self.action = env.process(self.run())\n",
    "        \n",
    "        \n",
    "    def run(self):\n",
    "        #moment the user enter the line\n",
    "        entersLine = env.now\n",
    "        #time that remains to board (in all these lines 15 is hardcoded)\n",
    "        remainsToBoard = 15 + 15 * (entersLine / 15) - entersLine\n",
    "\n",
    "        #waits the time remaining to board\n",
    "        yield self.env.timeout(remainsToBoard)\n",
    "        #request for a ticket\n",
    "        with shuttle.request() as req:\n",
    "            yield req\n",
    "            print 'User ' +  str(self.ID) + ' request a ticket at ' + str(env.now)\n",
    "            \n",
    "            #waits 15 minutes to the bus to arrives at point B\n",
    "            yield env.timeout(15) #THIS IS THE TRIP TIME, ITS FIXED\n",
    "            print 'User ' +  str(self.ID) + ' gets down the bus at ' + str(env.now)\n",
    "\n",
    "        \n",
    "class Circuit(object):\n",
    "    def __init__(self,env,tripTime):\n",
    "        self.env = env\n",
    "        self.tripTime = tripTime\n",
    "        # Start the run process everytime an instance is created.\n",
    "        self.action = env.process(self.run())\n",
    "\n",
    "        \n",
    "    def run(self):\n",
    "        arrival = Arrival(env)\n",
    "        #Begins circuit at time 0\n",
    "        while True:\n",
    "            print 'Bus arrives at A at', env.now\n",
    "            print 'Bus leaves A at', env.now\n",
    "            yield self.env.process(self.going())\n",
    "\n",
    "            print 'Bus arrives at B at', env.now\n",
    "            print 'Bus leaves B at', env.now\n",
    "            yield self.env.process(self.returning())\n",
    "\n",
    "            \n",
    "            \n",
    "            \n",
    "    #set the events for going and returning\n",
    "    def going(self):\n",
    "        yield self.env.timeout(self.tripTime)\n",
    "    \n",
    "    def returning(self):\n",
    "        yield self.env.timeout(self.tripTime)\n",
    "\n"
   ]
  },
  {
   "cell_type": "code",
   "execution_count": 146,
   "metadata": {
    "collapsed": false
   },
   "outputs": [
    {
     "name": "stdout",
     "output_type": "stream",
     "text": [
      "Bus arrives at A at 0\n",
      "Bus leaves A at 0\n",
      "User 0 generated at 2\n",
      "User 1 generated at 4\n",
      "User 2 generated at 6\n",
      "User 3 generated at 8\n",
      "User 4 generated at 10\n",
      "User 5 generated at 12\n",
      "User 6 generated at 14\n",
      "Bus arrives at B at 15\n",
      "Bus leaves B at 15\n",
      "User 0 request a ticket at 15\n",
      "User 1 request a ticket at 15\n",
      "User 2 request a ticket at 15\n",
      "User 3 request a ticket at 15\n",
      "User 4 request a ticket at 15\n",
      "User 5 request a ticket at 15\n",
      "User 6 request a ticket at 15\n",
      "User 7 generated at 16\n",
      "User 8 generated at 18\n",
      "User 9 generated at 20\n",
      "User 10 generated at 22\n",
      "User 11 generated at 24\n",
      "User 12 generated at 26\n",
      "User 13 generated at 28\n",
      "User 0 gets down the bus at 30\n",
      "User 1 gets down the bus at 30\n",
      "User 2 gets down the bus at 30\n",
      "User 3 gets down the bus at 30\n",
      "User 4 gets down the bus at 30\n",
      "User 5 gets down the bus at 30\n",
      "User 6 gets down the bus at 30\n",
      "User 14 generated at 30\n",
      "Bus arrives at A at 30\n",
      "Bus leaves A at 30\n",
      "User 7 request a ticket at 30\n",
      "User 8 request a ticket at 30\n",
      "User 9 request a ticket at 30\n",
      "User 10 request a ticket at 30\n",
      "User 11 request a ticket at 30\n",
      "User 12 request a ticket at 30\n",
      "User 13 request a ticket at 30\n"
     ]
    }
   ],
   "source": [
    "#Start the environment\n",
    "env = simpy.Environment()\n",
    "#puedo usar un Container mas que un resource\n",
    "shuttle = simpy.Resource(env, capacity=10)\n",
    "circuito = Circuit(env,tripTime=15)\n",
    "env.run(until=31)"
   ]
  }
 ],
 "metadata": {
  "kernelspec": {
   "display_name": "Python 2",
   "language": "python",
   "name": "python2"
  },
  "language_info": {
   "codemirror_mode": {
    "name": "ipython",
    "version": 2
   },
   "file_extension": ".py",
   "mimetype": "text/x-python",
   "name": "python",
   "nbconvert_exporter": "python",
   "pygments_lexer": "ipython2",
   "version": "2.7.13"
  }
 },
 "nbformat": 4,
 "nbformat_minor": 2
}
