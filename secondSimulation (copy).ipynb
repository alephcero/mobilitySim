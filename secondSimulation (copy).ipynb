{
 "cells": [
  {
   "cell_type": "code",
   "execution_count": 1,
   "metadata": {
    "collapsed": false
   },
   "outputs": [],
   "source": [
    "import simpy\n",
    "import numpy as np"
   ]
  },
  {
   "cell_type": "code",
   "execution_count": 79,
   "metadata": {
    "collapsed": false
   },
   "outputs": [],
   "source": [
    "#creating an Arrival class\n",
    "class Arrival(object):\n",
    "    def __init__(self, env,arrivalLambda):\n",
    "        self.env = env\n",
    "        # Start the run process everytime an instance is created.\n",
    "        self.action = env.process(self.run())\n",
    "        #set a name by default\n",
    "        self.arrivalLambda = arrivalLambda\n",
    "        \n",
    "    #create a method run that perfomrs the actions when is the enviroment starts running\n",
    "    def run(self):\n",
    "        #generate an id for each user\n",
    "        userID = 0\n",
    "        while True:\n",
    "            \n",
    "            #Generates users with Poisson distribution with lambda\n",
    "            yield self.env.timeout(np.random.poisson(lam=self.arrivalLambda))\n",
    "            #instanciate a user\n",
    "            user = User(env = env, ID = userID)\n",
    "            \n",
    "            print 'User ' + str(user.ID) + ' generated at ' + str(env.now) \n",
    "            #increment the user id\n",
    "            userID +=1\n",
    "\n",
    "#Create a user object      \n",
    "class User(object):\n",
    "    def __init__(self, env,ID):\n",
    "        self.env = env\n",
    "        #set a name by default\n",
    "        self.ID = ID\n",
    "        # Start the run process everytime an instance is created.\n",
    "        self.action = env.process(self.run())\n",
    "        \n",
    "        \n",
    "    def run(self):\n",
    "        #moment the user enter the line\n",
    "        entersLine = env.now\n",
    "        #time that remains to board (in all these lines 15 is hardcoded)\n",
    "        remainsToBoard = 15 + 15 * (entersLine / 15) - entersLine\n",
    "\n",
    "        #waits the time remaining to board\n",
    "        yield self.env.timeout(remainsToBoard)\n",
    "        \n",
    "        \n",
    "        #request for a ticket\n",
    "        with shuttle.request() as req:\n",
    "            print shuttle\n",
    "\n",
    "            yield req\n",
    "            print 'User ' +  str(self.ID) + ' request a ticket at ' + str(env.now)\n",
    "            \n",
    "            #waits 15 minutes to the bus to arrives at point B\n",
    "            yield env.timeout(15) #THIS IS THE TRIP TIME, ITS FIXED\n",
    "            getsDown = env.now\n",
    "            print 'User ' +  str(self.ID) + ' gets down the bus at ' + str(getsDown)\n",
    "            totalWait = getsDown - entersLine\n",
    "        \n",
    "        totalWaiting.append(totalWait)\n",
    "        inlineWainting.append(remainsToBoard)\n",
    "        users.append(self.ID)\n",
    "        \n",
    "        \n",
    "#shuttle class        \n",
    "class Shuttles(object):\n",
    "    def __init__(self,env, numOfSeats):\n",
    "        self.env = env\n",
    "        #Has a capacity\n",
    "        self.numOfSeats = numOfSeats\n",
    "        #and a triptime\n",
    "        #self.triptime = triptime\n",
    "        # Start the run process everytime an instance is created.\n",
    "        self.action = env.process(self.run())\n",
    "\n",
    "        \n",
    "    def run(self):\n",
    "    \n",
    "        yield self.env.timeout(0)\n",
    "        shuttle = simpy.Resource(env, capacity=self.numOfSeats)\n",
    "        print 'asientos',self.numOfSeats,env.now    \n",
    "\n",
    "        \n",
    "\n",
    "\n",
    "        \n",
    "        \n",
    "        \n",
    "#the whole circuit        \n",
    "class Circuit(object):\n",
    "    def __init__(self,env,tripTime,arrivalLambda):\n",
    "        self.env = env\n",
    "        self.tripTime = tripTime\n",
    "        #set user arrival rate\n",
    "        self.arrivalLambda = arrivalLambda\n",
    "        # Start the run process everytime an instance is created.\n",
    "        self.action = env.process(self.run())\n",
    "\n",
    "        \n",
    "    def run(self):\n",
    "        #generate one shuttle called shuttle\n",
    "        Shuttles(env,numOfSeats=10)\n",
    "        \n",
    "        #start to generate users\n",
    "        Arrival(env,arrivalLambda = self.arrivalLambda)\n",
    "        \n",
    "        \n",
    "        #Begins circuit at time 0\n",
    "        while True:\n",
    "            print 'Bus arrives at A at', env.now\n",
    "            print 'Bus leaves A at', env.now\n",
    "            yield self.env.process(self.going())\n",
    "\n",
    "            print 'Bus arrives at B at', env.now\n",
    "            print 'Bus leaves B at', env.now\n",
    "            yield self.env.process(self.returning())\n",
    "            \n",
    "    #set the events for going and returning\n",
    "    def going(self):\n",
    "        yield self.env.timeout(self.tripTime)\n",
    "    \n",
    "    def returning(self):\n",
    "        yield self.env.timeout(self.tripTime)\n",
    "\n"
   ]
  },
  {
   "cell_type": "code",
   "execution_count": 81,
   "metadata": {
    "collapsed": false
   },
   "outputs": [
    {
     "name": "stdout",
     "output_type": "stream",
     "text": [
      "Bus arrives at A at 0\n",
      "Bus leaves A at 0\n",
      "asientos 10 0\n",
      "User 0 generated at 2\n",
      "User 1 generated at 4\n",
      "User 2 generated at 7\n",
      "User 3 generated at 10\n",
      "User 4 generated at 11\n",
      "User 5 generated at 13\n",
      "User 6 generated at 14\n",
      "<simpy.resources.resource.Resource object at 0x7fe3dba35090>\n",
      "<simpy.resources.resource.Resource object at 0x7fe3dba35090>\n",
      "<simpy.resources.resource.Resource object at 0x7fe3dba35090>\n",
      "<simpy.resources.resource.Resource object at 0x7fe3dba35090>\n",
      "<simpy.resources.resource.Resource object at 0x7fe3dba35090>\n",
      "<simpy.resources.resource.Resource object at 0x7fe3dba35090>\n",
      "User 7 generated at 15\n",
      "<simpy.resources.resource.Resource object at 0x7fe3dba35090>\n",
      "Bus arrives at B at 15\n",
      "Bus leaves B at 15\n",
      "User 8 generated at 18\n",
      "User 9 generated at 25\n",
      "User 10 generated at 27\n",
      "<simpy.resources.resource.Resource object at 0x7fe3dba35090>\n",
      "<simpy.resources.resource.Resource object at 0x7fe3dba35090>\n",
      "<simpy.resources.resource.Resource object at 0x7fe3dba35090>\n",
      "User 11 generated at 30\n",
      "<simpy.resources.resource.Resource object at 0x7fe3dba35090>\n",
      "Bus arrives at A at 30\n",
      "Bus leaves A at 30\n",
      "User 12 generated at 30\n"
     ]
    }
   ],
   "source": [
    "#Start the environment\n",
    "totalWaiting = []\n",
    "inlineWainting = []\n",
    "users = []\n",
    "\n",
    "env = simpy.Environment()\n",
    "shuttle2 = simpy.Resource(env, capacity=10)\n",
    "\n",
    "circuito = Circuit(env,tripTime=15,arrivalLambda=2)\n",
    "env.run(until=31)"
   ]
  },
  {
   "cell_type": "code",
   "execution_count": 62,
   "metadata": {
    "collapsed": false
   },
   "outputs": [
    {
     "name": "stdout",
     "output_type": "stream",
     "text": [
      "The average total waiting time was: nan\n",
      "The average inline waiting time was: nan\n"
     ]
    }
   ],
   "source": [
    "print 'The average total waiting time was:',np.mean(totalWaiting)\n",
    "print 'The average inline waiting time was:',np.mean(inlineWainting)"
   ]
  },
  {
   "cell_type": "code",
   "execution_count": 80,
   "metadata": {
    "collapsed": true
   },
   "outputs": [],
   "source": [
    "#incorporar como parametro en todos los lugares 15\n",
    "#que los usuarios se suban solo cuando el vehiculo llega\n",
    "\n",
    "#outputs\n",
    "#q1 arrival at system\n",
    "#q2 sube al vehiculo\n",
    "#q 3 llega a destino"
   ]
  },
  {
   "cell_type": "code",
   "execution_count": null,
   "metadata": {
    "collapsed": true
   },
   "outputs": [],
   "source": []
  },
  {
   "cell_type": "code",
   "execution_count": null,
   "metadata": {
    "collapsed": true
   },
   "outputs": [],
   "source": [
    "# cuando el usuario nace, marcamos este momento en q1\n",
    "# espera a que llegue el bondi y hace un request, marcamos este momento en q2\n",
    "    #ver si dentro del user podemos esperar a que el shuttle llege a estacion A\n",
    "#espera a que termine el proceso de llegar a B, se baja y marcamos este momento en q3\n"
   ]
  }
 ],
 "metadata": {
  "anaconda-cloud": {},
  "kernelspec": {
   "display_name": "Python [default]",
   "language": "python",
   "name": "python2"
  },
  "language_info": {
   "codemirror_mode": {
    "name": "ipython",
    "version": 2
   },
   "file_extension": ".py",
   "mimetype": "text/x-python",
   "name": "python",
   "nbconvert_exporter": "python",
   "pygments_lexer": "ipython2",
   "version": "2.7.12"
  }
 },
 "nbformat": 4,
 "nbformat_minor": 2
}
