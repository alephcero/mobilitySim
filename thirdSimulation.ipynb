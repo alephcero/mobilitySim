{
 "cells": [
  {
   "cell_type": "code",
   "execution_count": 2,
   "metadata": {
    "collapsed": false
   },
   "outputs": [],
   "source": [
    "import simpy\n",
    "import numpy as np"
   ]
  },
  {
   "cell_type": "code",
   "execution_count": 70,
   "metadata": {
    "collapsed": false
   },
   "outputs": [],
   "source": [
    "#creating an Arrival class\n",
    "class Arrival(object):\n",
    "    def __init__(self, env,arrivalLambda,shuttle):\n",
    "        self.env = env\n",
    "        #assigna  shuttle\n",
    "        self.shuttle = shuttle\n",
    "        # Start the run process everytime an instance is created.\n",
    "        self.action = env.process(self.run())\n",
    "        #set a name by default\n",
    "        self.arrivalLambda = arrivalLambda\n",
    "        \n",
    "    #create a method run that perfomrs the actions when is the enviroment starts running\n",
    "    def run(self):\n",
    "        #generate an id for each user\n",
    "        userID = 0\n",
    "        while True:\n",
    "            \n",
    "            #Generates users with Poisson distribution with lambda\n",
    "            yield self.env.timeout(np.random.poisson(lam=self.arrivalLambda))\n",
    "            #instanciate a user\n",
    "            user = User(env = env, ID = userID,shuttle=self.shuttle) \n",
    "            \n",
    "            print 'User ' + str(user.ID) + ' generated at ' + str(env.now) \n",
    "            #increment the user id\n",
    "            userID +=1\n",
    "\n",
    "#Create a user object      \n",
    "class User(object):\n",
    "    def __init__(self, env,ID,shuttle):\n",
    "        self.env = env\n",
    "        #set a name by default\n",
    "        self.ID = ID\n",
    "        # Start the run process everytime an instance is created.\n",
    "        self.action = env.process(self.run())\n",
    "        self.shuttle = shuttle\n",
    "        \n",
    "    def run(self):\n",
    "        #moment the user enter the line\n",
    "        entersLine = env.now\n",
    "        yield env.process(self.shuttle.going())\n",
    "        print 'Me user %d ask for a ticket at %d' %(self.ID,env.now)\n",
    "        yield env.timeout(45)\n",
    "\n",
    "        #waits that the shuttle arrives at point A\n",
    "        #request a resource\n",
    "        #wits until shuttle arrives at point B\n",
    "        #release a resource\n",
    "        \n",
    "        \n",
    "#shuttle class        \n",
    "class Shuttles(object):\n",
    "    def __init__(self,env, numOfSeats,tripTime):\n",
    "        self.env = env\n",
    "        #Has a capacity\n",
    "        self.numOfSeats = numOfSeats\n",
    "        #and a triptime\n",
    "        self.tripTime = tripTime\n",
    "        # Start the run process everytime an instance is created.\n",
    "        self.action = env.process(self.run())\n",
    "\n",
    "        \n",
    "    def run(self):\n",
    "        while True:\n",
    "            print 'Shuttle arrives at A',env.now\n",
    "            print 'Shuttle leaves from A',env.now\n",
    "            yield self.env.process(self.going())\n",
    "            \n",
    "            print 'Shuttle arrives at B',env.now\n",
    "            print 'Shuttle leaves from B',env.now\n",
    "            yield self.env.process(self.returning())\n",
    "            \n",
    "    #set the events for going and returning\n",
    "    def going(self):\n",
    "        yield self.env.timeout(self.tripTime)\n",
    "    \n",
    "    def returning(self):\n",
    "        yield self.env.timeout(self.tripTime)\n",
    "\n",
    "\n",
    "  \n",
    "        \n",
    "        \n",
    "#the whole circuit        \n",
    "class Circuit(object):\n",
    "    def __init__(self,env,tripTime,arrivalLambda,shuttle):\n",
    "        self.env = env\n",
    "        self.tripTime = tripTime\n",
    "        #set user arrival rate\n",
    "        self.arrivalLambda = arrivalLambda\n",
    "        #shuttle \n",
    "        self.shuttle = shuttle\n",
    "        # Start the run process everytime an instance is created.\n",
    "        self.action = env.process(self.run())\n",
    "\n",
    "        \n",
    "    def run(self):\n",
    "        #generate one shuttle called shuttle\n",
    "        #Shuttles(env,numOfSeats=10)\n",
    "        \n",
    "        #start to generate users\n",
    "\n",
    "        bondi = Shuttles(env=env, numOfSeats=10,tripTime=15)\n",
    "        Arrival(env,arrivalLambda = self.arrivalLambda,shuttle=bondi)\n",
    "        yield env.timeout(45)\n",
    "        \n",
    "        \n"
   ]
  },
  {
   "cell_type": "code",
   "execution_count": 71,
   "metadata": {
    "collapsed": false
   },
   "outputs": [
    {
     "name": "stdout",
     "output_type": "stream",
     "text": [
      "Shuttle arrives at A 0\n",
      "Shuttle leaves from A 0\n",
      "User 0 generated at 1\n",
      "User 1 generated at 3\n",
      "User 2 generated at 3\n",
      "User 3 generated at 5\n",
      "User 4 generated at 7\n",
      "User 5 generated at 7\n",
      "User 6 generated at 8\n",
      "User 7 generated at 8\n",
      "User 8 generated at 8\n",
      "User 9 generated at 10\n",
      "User 10 generated at 14\n",
      "Shuttle arrives at B 15\n",
      "Shuttle leaves from B 15\n",
      "Me user 0 ask for a ticket at 16\n",
      "User 11 generated at 18\n",
      "Me user 1 ask for a ticket at 18\n",
      "Me user 2 ask for a ticket at 18\n",
      "User 12 generated at 19\n",
      "Me user 3 ask for a ticket at 20\n",
      "User 13 generated at 21\n",
      "User 14 generated at 22\n",
      "Me user 4 ask for a ticket at 22\n",
      "Me user 5 ask for a ticket at 22\n",
      "Me user 6 ask for a ticket at 23\n",
      "Me user 7 ask for a ticket at 23\n",
      "Me user 8 ask for a ticket at 23\n",
      "User 15 generated at 24\n",
      "User 16 generated at 25\n",
      "Me user 9 ask for a ticket at 25\n",
      "User 17 generated at 26\n",
      "User 18 generated at 29\n",
      "Me user 10 ask for a ticket at 29\n",
      "Shuttle arrives at A 30\n",
      "Shuttle leaves from A 30\n"
     ]
    }
   ],
   "source": [
    "#Start the environment\n",
    "totalWaiting = []\n",
    "inlineWainting = []\n",
    "users = []\n",
    "\n",
    "env = simpy.Environment()\n",
    "#shuttle = simpy.Resource(env, capacity=10)\n",
    "\n",
    "circuito = Circuit(env,tripTime=15,arrivalLambda=2,shuttle='caca')\n",
    "env.run(until=31)"
   ]
  },
  {
   "cell_type": "code",
   "execution_count": 62,
   "metadata": {
    "collapsed": false
   },
   "outputs": [
    {
     "name": "stdout",
     "output_type": "stream",
     "text": [
      "The average total waiting time was: nan\n",
      "The average inline waiting time was: nan\n"
     ]
    }
   ],
   "source": [
    "print 'The average total waiting time was:',np.mean(totalWaiting)\n",
    "print 'The average inline waiting time was:',np.mean(inlineWainting)"
   ]
  },
  {
   "cell_type": "code",
   "execution_count": 80,
   "metadata": {
    "collapsed": true
   },
   "outputs": [],
   "source": [
    "#incorporar como parametro en todos los lugares 15\n",
    "#que los usuarios se suban solo cuando el vehiculo llega\n",
    "\n",
    "#outputs\n",
    "#q1 arrival at system\n",
    "#q2 sube al vehiculo\n",
    "#q 3 llega a destino"
   ]
  },
  {
   "cell_type": "code",
   "execution_count": null,
   "metadata": {
    "collapsed": true
   },
   "outputs": [],
   "source": []
  },
  {
   "cell_type": "code",
   "execution_count": null,
   "metadata": {
    "collapsed": true
   },
   "outputs": [],
   "source": [
    "# cuando el usuario nace, marcamos este momento en q1\n",
    "# espera a que llegue el bondi y hace un request, marcamos este momento en q2\n",
    "    #ver si dentro del user podemos esperar a que el shuttle llege a estacion A\n",
    "#espera a que termine el proceso de llegar a B, se baja y marcamos este momento en q3\n"
   ]
  },
  {
   "cell_type": "code",
   "execution_count": null,
   "metadata": {
    "collapsed": true
   },
   "outputs": [],
   "source": [
    ">>> import simpy\n",
    ">>>\n",
    ">>> def resource_user(env, resource):\n",
    "...     request = resource.request()  # Generate a request event\n",
    "...     yield request                 # Wait for access\n",
    "...     yield env.timeout(1)          # Do something\n",
    "...     resource.release(request)     # Release the resource\n",
    "...\n",
    ">>> env = simpy.Environment()\n",
    ">>> res = simpy.Resource(env, capacity=1)\n",
    ">>> user = env.process(resource_user(env, res))\n",
    ">>> env.run()"
   ]
  }
 ],
 "metadata": {
  "anaconda-cloud": {},
  "kernelspec": {
   "display_name": "Python 2",
   "language": "python",
   "name": "python2"
  },
  "language_info": {
   "codemirror_mode": {
    "name": "ipython",
    "version": 2
   },
   "file_extension": ".py",
   "mimetype": "text/x-python",
   "name": "python",
   "nbconvert_exporter": "python",
   "pygments_lexer": "ipython2",
   "version": "2.7.13"
  }
 },
 "nbformat": 4,
 "nbformat_minor": 2
}
